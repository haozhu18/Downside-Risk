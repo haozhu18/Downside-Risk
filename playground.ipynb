{
 "cells": [
  {
   "cell_type": "markdown",
   "id": "a67d8758-a72c-45a6-8987-126584ae6304",
   "metadata": {},
   "source": [
    "Ideas"
   ]
  },
  {
   "cell_type": "markdown",
   "id": "c8a64d85-7a82-4852-a53d-4db71edaf809",
   "metadata": {},
   "source": [
    "Equal weight, value weight, transaction costs, multiple asset classes, benchmark which one to use (ordinary volatility timing too)?"
   ]
  },
  {
   "cell_type": "markdown",
   "id": "4cd4ef64-4bd2-498e-9a11-12dc94dcee92",
   "metadata": {},
   "source": [
    "volatility timing vs downside beta: I get the impression that you can apply the downside beta strategy on more stuff than vol. timing which goes best with momentum etc."
   ]
  },
  {
   "cell_type": "markdown",
   "id": "6f20ae88-4c6b-4a31-b96b-450d0888fd03",
   "metadata": {},
   "source": [
    "include all the different usual metrics, sharpe, info, drawdown, ..."
   ]
  },
  {
   "cell_type": "markdown",
   "id": "d29d587c-9245-4074-b30b-1687f306cbe7",
   "metadata": {},
   "source": [
    "model robustness to different specifications of the threshold"
   ]
  },
  {
   "cell_type": "markdown",
   "id": "ebc81840-ab47-432e-b405-7b2bb1e4013e",
   "metadata": {},
   "source": [
    "what are the risks of the strategy: when market is down, stocks tend to move together..."
   ]
  },
  {
   "cell_type": "markdown",
   "id": "b14d4689-b63c-4f49-b569-c1d691112429",
   "metadata": {},
   "source": [
    "# Plan"
   ]
  },
  {
   "cell_type": "markdown",
   "id": "31fc7308-be11-4ee2-939b-acbc23255f90",
   "metadata": {},
   "source": [
    "Estimate $\\beta$ and $\\beta^-$ for each year,  signal is $\\beta^- - \\beta$ (larger is better). Roll sample forward one month at a month to reestimate."
   ]
  },
  {
   "cell_type": "markdown",
   "id": "08a1a23e-7e57-4f0e-9e80-6340ae355878",
   "metadata": {},
   "source": [
    "# Code"
   ]
  },
  {
   "cell_type": "code",
   "execution_count": 2,
   "id": "a9d92737-3f90-41b5-b16f-3ede9cc1838f",
   "metadata": {
    "tags": []
   },
   "outputs": [],
   "source": [
    "import qpm\n",
    "import pandas as pd\n",
    "import numpy as np\n",
    "from tqdm import tqdm\n",
    "from get_signal import get_signal"
   ]
  },
  {
   "cell_type": "markdown",
   "id": "810c2aac-3757-4c1a-aeb8-853b82406f88",
   "metadata": {},
   "source": [
    "Currency *ETF"
   ]
  },
  {
   "cell_type": "markdown",
   "id": "b896cfb5-7692-4166-b91b-ca92601009ff",
   "metadata": {},
   "source": [
    "FXY (Japanese Yen), FXE (Euro), FXF (Swiss Franc), FXB (British Pound), FXA (Australian Dollar), FXC (Canadian Dollar)"
   ]
  },
  {
   "cell_type": "code",
   "execution_count": 3,
   "id": "7d9b749b-b5ab-43c0-889f-86d353ab0b06",
   "metadata": {
    "tags": []
   },
   "outputs": [],
   "source": [
    "_DATA_DIR = '../Data'\n",
    "_STRATEGY_DIR = '../Strategy'\n",
    "_STRATEGY_NAME = 'Currency'\n",
    "\n",
    "_SAMPLE_START = '2006-01-01' # Earliest available for currency ETF: 2006-01-03\n",
    "_SAMPLE_END = '2023-07-31'"
   ]
  },
  {
   "cell_type": "code",
   "execution_count": 110,
   "id": "518e4079-1cca-4788-8a34-df472c487fac",
   "metadata": {},
   "outputs": [],
   "source": [
    "df = pd.read_parquet('../Data/ETFdata.parquet')"
   ]
  },
  {
   "cell_type": "code",
   "execution_count": 90,
   "id": "8a79c45e-a229-4d31-bab6-33fad461883b",
   "metadata": {
    "tags": []
   },
   "outputs": [],
   "source": [
    "df_monthly = df.groupby(['ticker', 'ym'], as_index=False)['retM'].first()"
   ]
  },
  {
   "cell_type": "code",
   "execution_count": 91,
   "id": "8cda5944-6e4a-4228-8d6a-ab48bf4066df",
   "metadata": {
    "tags": []
   },
   "outputs": [
    {
     "data": {
      "text/html": [
       "<div>\n",
       "<style scoped>\n",
       "    .dataframe tbody tr th:only-of-type {\n",
       "        vertical-align: middle;\n",
       "    }\n",
       "\n",
       "    .dataframe tbody tr th {\n",
       "        vertical-align: top;\n",
       "    }\n",
       "\n",
       "    .dataframe thead th {\n",
       "        text-align: right;\n",
       "    }\n",
       "</style>\n",
       "<table border=\"1\" class=\"dataframe\">\n",
       "  <thead>\n",
       "    <tr style=\"text-align: right;\">\n",
       "      <th></th>\n",
       "      <th>ticker</th>\n",
       "      <th>ym</th>\n",
       "      <th>retM</th>\n",
       "    </tr>\n",
       "  </thead>\n",
       "  <tbody>\n",
       "    <tr>\n",
       "      <th>1773</th>\n",
       "      <td>ADRA</td>\n",
       "      <td>2003-01-01</td>\n",
       "      <td>-0.024894</td>\n",
       "    </tr>\n",
       "    <tr>\n",
       "      <th>1978</th>\n",
       "      <td>ADRD</td>\n",
       "      <td>2003-01-01</td>\n",
       "      <td>-0.009497</td>\n",
       "    </tr>\n",
       "    <tr>\n",
       "      <th>2183</th>\n",
       "      <td>ADRE</td>\n",
       "      <td>2003-01-01</td>\n",
       "      <td>-0.072464</td>\n",
       "    </tr>\n",
       "    <tr>\n",
       "      <th>2425</th>\n",
       "      <td>ADRU</td>\n",
       "      <td>2003-01-01</td>\n",
       "      <td>-0.020167</td>\n",
       "    </tr>\n",
       "    <tr>\n",
       "      <th>11347</th>\n",
       "      <td>BBH</td>\n",
       "      <td>2003-01-01</td>\n",
       "      <td>0.049050</td>\n",
       "    </tr>\n",
       "    <tr>\n",
       "      <th>...</th>\n",
       "      <td>...</td>\n",
       "      <td>...</td>\n",
       "      <td>...</td>\n",
       "    </tr>\n",
       "    <tr>\n",
       "      <th>318377</th>\n",
       "      <td>ZROZ</td>\n",
       "      <td>2023-07-01</td>\n",
       "      <td>-0.040422</td>\n",
       "    </tr>\n",
       "    <tr>\n",
       "      <th>318383</th>\n",
       "      <td>ZSB</td>\n",
       "      <td>2023-07-01</td>\n",
       "      <td>0.000671</td>\n",
       "    </tr>\n",
       "    <tr>\n",
       "      <th>318558</th>\n",
       "      <td>ZSL</td>\n",
       "      <td>2023-07-01</td>\n",
       "      <td>-0.159378</td>\n",
       "    </tr>\n",
       "    <tr>\n",
       "      <th>318586</th>\n",
       "      <td>ZSPY</td>\n",
       "      <td>2023-07-01</td>\n",
       "      <td>0.051538</td>\n",
       "    </tr>\n",
       "    <tr>\n",
       "      <th>318588</th>\n",
       "      <td>ZTAX</td>\n",
       "      <td>2023-07-01</td>\n",
       "      <td>-0.001550</td>\n",
       "    </tr>\n",
       "  </tbody>\n",
       "</table>\n",
       "<p>318589 rows × 3 columns</p>\n",
       "</div>"
      ],
      "text/plain": [
       "       ticker         ym      retM\n",
       "1773     ADRA 2003-01-01 -0.024894\n",
       "1978     ADRD 2003-01-01 -0.009497\n",
       "2183     ADRE 2003-01-01 -0.072464\n",
       "2425     ADRU 2003-01-01 -0.020167\n",
       "11347     BBH 2003-01-01  0.049050\n",
       "...       ...        ...       ...\n",
       "318377   ZROZ 2023-07-01 -0.040422\n",
       "318383    ZSB 2023-07-01  0.000671\n",
       "318558    ZSL 2023-07-01 -0.159378\n",
       "318586   ZSPY 2023-07-01  0.051538\n",
       "318588   ZTAX 2023-07-01 -0.001550\n",
       "\n",
       "[318589 rows x 3 columns]"
      ]
     },
     "execution_count": 91,
     "metadata": {},
     "output_type": "execute_result"
    }
   ],
   "source": [
    "df_monthly.sort_values(by=['ym', 'ticker'])"
   ]
  },
  {
   "cell_type": "code",
   "execution_count": 18,
   "id": "0b8c4771-f9b4-4e5b-bafd-5ded35c00cdf",
   "metadata": {
    "tags": []
   },
   "outputs": [],
   "source": [
    "df = df[df['ticker'].isin(['FXY', 'FXE', 'FXF', 'FXB', 'FXA'])]"
   ]
  },
  {
   "cell_type": "code",
   "execution_count": 19,
   "id": "cfe54172-d9e8-40e9-8160-18311bb2b62f",
   "metadata": {
    "tags": []
   },
   "outputs": [],
   "source": [
    "df.sort_values(by=['date', 'ticker'], inplace=True)"
   ]
  },
  {
   "cell_type": "code",
   "execution_count": 7,
   "id": "9363e9ef-357f-4ddc-a0a4-d62317e0ba12",
   "metadata": {
    "tags": []
   },
   "outputs": [],
   "source": [
    "df.rename(columns={'retd': 'daret', 'date': 'ldate'}, inplace=True)"
   ]
  },
  {
   "cell_type": "code",
   "execution_count": 8,
   "id": "14da330f-fdec-4570-9394-8036f2addada",
   "metadata": {
    "tags": []
   },
   "outputs": [],
   "source": [
    "df.dropna(subset=['daret'])\n",
    "df['excess_ret'] = df['daret'] - df['rf']\n",
    "df = df[df['excess_ret'] > -1]"
   ]
  },
  {
   "cell_type": "markdown",
   "id": "28f76533-dd0c-4ad2-a12e-5617da1c89d5",
   "metadata": {},
   "source": [
    "Commodities (ETF)"
   ]
  },
  {
   "cell_type": "markdown",
   "id": "98804927-b0c2-4141-8835-611132b5c4fb",
   "metadata": {},
   "source": [
    "UCO (crude oil), DBA (agriculture), DBB (base metal), DBP (precious metal), DBE (energy)"
   ]
  },
  {
   "cell_type": "code",
   "execution_count": 71,
   "id": "91094113-18f7-4bc8-999e-60e9ec9418fb",
   "metadata": {
    "tags": []
   },
   "outputs": [],
   "source": [
    "_DATA_DIR = '../Data'\n",
    "_STRATEGY_DIR = '../Strategy'\n",
    "_STRATEGY_NAME = 'Commodities'\n",
    "\n",
    "_SAMPLE_START = '2007-02-01' # Earliest available for currency ETF: 2007-02-01\n",
    "_SAMPLE_END = '2023-07-31'"
   ]
  },
  {
   "cell_type": "code",
   "execution_count": 72,
   "id": "dbbf7aca-7439-44a7-a34b-79360f7a0943",
   "metadata": {
    "tags": []
   },
   "outputs": [],
   "source": [
    "df = pd.read_parquet('../Data/ETFdata.parquet')"
   ]
  },
  {
   "cell_type": "code",
   "execution_count": 73,
   "id": "5016e644-5a5a-4b38-9b14-50e0385bce3e",
   "metadata": {
    "tags": []
   },
   "outputs": [],
   "source": [
    "df = df[df['ticker'].isin(['UCO', 'DBA', 'DBB', 'DBP', 'DBE'])]"
   ]
  },
  {
   "cell_type": "code",
   "execution_count": 74,
   "id": "70b308a9-cc81-46ce-808e-942899d8be5c",
   "metadata": {
    "tags": []
   },
   "outputs": [],
   "source": [
    "df.sort_values(by=['date', 'ticker'], inplace=True)"
   ]
  },
  {
   "cell_type": "code",
   "execution_count": 75,
   "id": "41de22ad-37e5-4402-a7ff-7471bd47b57d",
   "metadata": {
    "tags": []
   },
   "outputs": [],
   "source": [
    "df.rename(columns={'retd': 'daret', 'date': 'ldate'}, inplace=True)"
   ]
  },
  {
   "cell_type": "code",
   "execution_count": 76,
   "id": "e5395929-4ecf-438d-9ee5-5853965b5d9d",
   "metadata": {
    "tags": []
   },
   "outputs": [],
   "source": [
    "df.dropna(subset=['daret'])\n",
    "df['excess_ret'] = df['daret'] - df['rf']\n",
    "df = df[df['excess_ret'] > -1]"
   ]
  },
  {
   "cell_type": "markdown",
   "id": "3e5298e9-d54d-42f4-944a-3f3d72dbb284",
   "metadata": {},
   "source": [
    "Corporate bonds"
   ]
  },
  {
   "cell_type": "code",
   "execution_count": 177,
   "id": "0e56b9b8-a0be-4c67-8dbb-d2af120701f9",
   "metadata": {
    "tags": []
   },
   "outputs": [],
   "source": [
    "df = pd.read_parquet(f'{_DATA_DIR}/daily_data.parquet')"
   ]
  },
  {
   "cell_type": "code",
   "execution_count": 204,
   "id": "95d3ea14-5345-4b60-bdcb-1cb7b627b176",
   "metadata": {
    "tags": []
   },
   "outputs": [],
   "source": [
    "df_bond = pd.read_parquet('../Data/bond_data.parquet').rename(columns={'mktrf': 'benchmark', 'ldate' : 'ym'})"
   ]
  },
  {
   "cell_type": "code",
   "execution_count": 197,
   "id": "d30d7699-7e0a-4218-8329-a2c379cb7b72",
   "metadata": {
    "tags": []
   },
   "outputs": [],
   "source": [
    "df = pd.read_parquet(f'{_DATA_DIR}/bond_data.parquet')"
   ]
  },
  {
   "cell_type": "code",
   "execution_count": 198,
   "id": "e635c5f8-9495-4548-b54f-76980aa566a0",
   "metadata": {
    "tags": []
   },
   "outputs": [],
   "source": [
    "_DATA_DIR = '../Data'\n",
    "_STRATEGY_DIR = '../Strategy'\n",
    "_STRATEGY_NAME = 'Bonds'"
   ]
  },
  {
   "cell_type": "code",
   "execution_count": 200,
   "id": "6fd4cdc7-75bd-45cd-95ee-8e8d7cd5af8d",
   "metadata": {
    "tags": []
   },
   "outputs": [
    {
     "name": "stderr",
     "output_type": "stream",
     "text": [
      "100%|█| 229/229 [00:15<00:00, 14.73it/s\n"
     ]
    }
   ],
   "source": [
    "df.dropna(subset=['daret'])\n",
    "df['excess_ret'] = df['daret'] - df['rf']\n",
    "df = df[df['excess_ret'] > -1]\n",
    "\n",
    "# Prepare rolling windows\n",
    "start_date = df['ldate'].iloc[0]\n",
    "end_date = df['ldate'].iloc[-1]\n",
    "\n",
    "date_ranges = pd.date_range(start=start_date, end=end_date - pd.DateOffset(months=10), freq='M').to_period('M')\n",
    "\n",
    "windows = [(str(date), str(date + 12)) for date in date_ranges]\n",
    "\n",
    "# Calculate signals\n",
    "signals_rolling = []\n",
    "\n",
    "for window_start, window_end in tqdm(windows):\n",
    "    df_year = df[(df['ldate'] > window_start) & (df['ldate'] < window_end)]\n",
    "    signals_rolling.append(get_signal(df_year, 'cusip'))\n",
    "\n",
    "signals_rolling = pd.concat(signals_rolling)\n",
    "\n",
    "# Reformat date to first of each month for future merging\n",
    "signals_rolling['ldate'] = signals_rolling['ldate'].values.astype('datetime64[M]')\n",
    "\n",
    "# Save the signals\n",
    "signals_rolling.to_parquet(f'{_STRATEGY_DIR}/signals_{_STRATEGY_NAME}.parquet')\n"
   ]
  },
  {
   "cell_type": "code",
   "execution_count": 201,
   "id": "02030b4d-d6ba-439e-b244-94f952f5a16d",
   "metadata": {
    "tags": []
   },
   "outputs": [
    {
     "data": {
      "text/html": [
       "<div>\n",
       "<style scoped>\n",
       "    .dataframe tbody tr th:only-of-type {\n",
       "        vertical-align: middle;\n",
       "    }\n",
       "\n",
       "    .dataframe tbody tr th {\n",
       "        vertical-align: top;\n",
       "    }\n",
       "\n",
       "    .dataframe thead th {\n",
       "        text-align: right;\n",
       "    }\n",
       "</style>\n",
       "<table border=\"1\" class=\"dataframe\">\n",
       "  <thead>\n",
       "    <tr style=\"text-align: right;\">\n",
       "      <th></th>\n",
       "      <th>cusip</th>\n",
       "      <th>ldate</th>\n",
       "      <th>daret</th>\n",
       "      <th>mktrf</th>\n",
       "      <th>rf</th>\n",
       "      <th>excess_ret</th>\n",
       "    </tr>\n",
       "  </thead>\n",
       "  <tbody>\n",
       "    <tr>\n",
       "      <th>740</th>\n",
       "      <td>552673AM7</td>\n",
       "      <td>2002-07-01</td>\n",
       "      <td>-0.173490</td>\n",
       "      <td>-0.174990</td>\n",
       "      <td>0.0015</td>\n",
       "      <td>-0.174990</td>\n",
       "    </tr>\n",
       "    <tr>\n",
       "      <th>741</th>\n",
       "      <td>552673AP0</td>\n",
       "      <td>2002-07-01</td>\n",
       "      <td>-0.173490</td>\n",
       "      <td>-0.174990</td>\n",
       "      <td>0.0015</td>\n",
       "      <td>-0.174990</td>\n",
       "    </tr>\n",
       "    <tr>\n",
       "      <th>742</th>\n",
       "      <td>552673AQ8</td>\n",
       "      <td>2002-07-01</td>\n",
       "      <td>-0.173490</td>\n",
       "      <td>-0.174990</td>\n",
       "      <td>0.0015</td>\n",
       "      <td>-0.174990</td>\n",
       "    </tr>\n",
       "    <tr>\n",
       "      <th>743</th>\n",
       "      <td>552673AS4</td>\n",
       "      <td>2002-07-01</td>\n",
       "      <td>-0.173490</td>\n",
       "      <td>-0.174990</td>\n",
       "      <td>0.0015</td>\n",
       "      <td>-0.174990</td>\n",
       "    </tr>\n",
       "    <tr>\n",
       "      <th>2010</th>\n",
       "      <td>552673AU9</td>\n",
       "      <td>2002-07-01</td>\n",
       "      <td>-0.173490</td>\n",
       "      <td>-0.174990</td>\n",
       "      <td>0.0015</td>\n",
       "      <td>-0.174990</td>\n",
       "    </tr>\n",
       "    <tr>\n",
       "      <th>...</th>\n",
       "      <td>...</td>\n",
       "      <td>...</td>\n",
       "      <td>...</td>\n",
       "      <td>...</td>\n",
       "      <td>...</td>\n",
       "      <td>...</td>\n",
       "    </tr>\n",
       "    <tr>\n",
       "      <th>2169807</th>\n",
       "      <td>575718AH4</td>\n",
       "      <td>2022-06-01</td>\n",
       "      <td>-0.033421</td>\n",
       "      <td>-0.028983</td>\n",
       "      <td>0.0006</td>\n",
       "      <td>-0.034021</td>\n",
       "    </tr>\n",
       "    <tr>\n",
       "      <th>2169808</th>\n",
       "      <td>649322AF1</td>\n",
       "      <td>2022-06-01</td>\n",
       "      <td>-0.025026</td>\n",
       "      <td>-0.028983</td>\n",
       "      <td>0.0006</td>\n",
       "      <td>-0.025626</td>\n",
       "    </tr>\n",
       "    <tr>\n",
       "      <th>2169809</th>\n",
       "      <td>649322AH7</td>\n",
       "      <td>2022-06-01</td>\n",
       "      <td>-0.018508</td>\n",
       "      <td>-0.028983</td>\n",
       "      <td>0.0006</td>\n",
       "      <td>-0.019108</td>\n",
       "    </tr>\n",
       "    <tr>\n",
       "      <th>2169810</th>\n",
       "      <td>649322AJ3</td>\n",
       "      <td>2022-06-01</td>\n",
       "      <td>-0.078584</td>\n",
       "      <td>-0.028983</td>\n",
       "      <td>0.0006</td>\n",
       "      <td>-0.079184</td>\n",
       "    </tr>\n",
       "    <tr>\n",
       "      <th>2169811</th>\n",
       "      <td>68233JBZ6</td>\n",
       "      <td>2022-06-01</td>\n",
       "      <td>-0.009334</td>\n",
       "      <td>-0.028983</td>\n",
       "      <td>0.0006</td>\n",
       "      <td>-0.009934</td>\n",
       "    </tr>\n",
       "  </tbody>\n",
       "</table>\n",
       "<p>1828760 rows × 6 columns</p>\n",
       "</div>"
      ],
      "text/plain": [
       "             cusip      ldate     daret     mktrf      rf  excess_ret\n",
       "740      552673AM7 2002-07-01 -0.173490 -0.174990  0.0015   -0.174990\n",
       "741      552673AP0 2002-07-01 -0.173490 -0.174990  0.0015   -0.174990\n",
       "742      552673AQ8 2002-07-01 -0.173490 -0.174990  0.0015   -0.174990\n",
       "743      552673AS4 2002-07-01 -0.173490 -0.174990  0.0015   -0.174990\n",
       "2010     552673AU9 2002-07-01 -0.173490 -0.174990  0.0015   -0.174990\n",
       "...            ...        ...       ...       ...     ...         ...\n",
       "2169807  575718AH4 2022-06-01 -0.033421 -0.028983  0.0006   -0.034021\n",
       "2169808  649322AF1 2022-06-01 -0.025026 -0.028983  0.0006   -0.025626\n",
       "2169809  649322AH7 2022-06-01 -0.018508 -0.028983  0.0006   -0.019108\n",
       "2169810  649322AJ3 2022-06-01 -0.078584 -0.028983  0.0006   -0.079184\n",
       "2169811  68233JBZ6 2022-06-01 -0.009334 -0.028983  0.0006   -0.009934\n",
       "\n",
       "[1828760 rows x 6 columns]"
      ]
     },
     "execution_count": 201,
     "metadata": {},
     "output_type": "execute_result"
    }
   ],
   "source": [
    "df"
   ]
  },
  {
   "cell_type": "code",
   "execution_count": 79,
   "id": "875575e2-9bae-42ad-9be9-abdfd33591be",
   "metadata": {
    "tags": []
   },
   "outputs": [],
   "source": [
    "_DATA_DIR = '../Data'\n",
    "_STRATEGY_DIR = '../Strategy'\n",
    "_STRATEGY_NAME = 'Bonds'\n",
    "\n",
    "_SAMPLE_START = '2002-07-01' # Earliest available for bonds: 2002-07-01\n",
    "_SAMPLE_END = '2022-06-01'"
   ]
  },
  {
   "cell_type": "code",
   "execution_count": 80,
   "id": "71233b26-9369-4c2d-a864-ae0c85e88800",
   "metadata": {
    "tags": []
   },
   "outputs": [],
   "source": [
    "df = pd.read_parquet('../Data/bond_data.parquet')"
   ]
  },
  {
   "cell_type": "code",
   "execution_count": 81,
   "id": "ca420b66-5a54-4f2f-bcd4-907b178e2504",
   "metadata": {
    "tags": []
   },
   "outputs": [],
   "source": [
    "df.dropna(subset=['daret'])\n",
    "df['excess_ret'] = df['daret'] - df['rf']\n",
    "df = df[df['excess_ret'] > -1]"
   ]
  },
  {
   "cell_type": "code",
   "execution_count": 82,
   "id": "1b900750-e70b-4972-bad5-e5462662be59",
   "metadata": {
    "tags": []
   },
   "outputs": [],
   "source": [
    "start_date = pd.to_datetime(_SAMPLE_START)\n",
    "end_date = pd.to_datetime(_SAMPLE_END)\n",
    "\n",
    "date_ranges = pd.date_range(start=start_date, end=end_date - pd.DateOffset(months=11), freq='MS').to_period('M')\n",
    "\n",
    "windows = [(str(date), str(date + 12)) for date in date_ranges]"
   ]
  },
  {
   "cell_type": "code",
   "execution_count": 83,
   "id": "02d4707b-0b5c-47c5-81be-dff28cbc381b",
   "metadata": {
    "tags": []
   },
   "outputs": [
    {
     "name": "stderr",
     "output_type": "stream",
     "text": [
      "100%|██████████████████████████████| 229/229 [00:15<00:00, 14.54it/s]\n"
     ]
    }
   ],
   "source": [
    "signals_rolling = []\n",
    "\n",
    "for window_start, window_end in tqdm(windows):\n",
    "    df_year = df[(df['ldate'] > window_start) & (df['ldate'] < window_end)]\n",
    "    signals_rolling.append(get_signal(df_year, 'cusip'))\n",
    "\n",
    "signals_rolling = pd.concat(signals_rolling)\n",
    "\n",
    "# Reformat date to first of each month for future merging\n",
    "signals_rolling['ldate'] = signals_rolling['ldate'].values.astype('datetime64[M]')\n",
    "\n",
    "# Save the signals\n",
    "signals_rolling.to_parquet(f'{_STRATEGY_DIR}/signals_{_STRATEGY_NAME}.parquet')"
   ]
  },
  {
   "cell_type": "markdown",
   "id": "5d1e5e13-8780-4160-83cc-6696d8d21f1c",
   "metadata": {},
   "source": [
    "Days of down market"
   ]
  },
  {
   "cell_type": "code",
   "execution_count": 212,
   "id": "4b93af10-2e33-4e03-a6d9-b4cbf09eaccd",
   "metadata": {
    "tags": []
   },
   "outputs": [],
   "source": [
    "import matplotlib.pyplot as plt"
   ]
  },
  {
   "cell_type": "code",
   "execution_count": 134,
   "id": "b8dd92d6-7e64-49f2-8812-bb1b64d2e945",
   "metadata": {
    "tags": []
   },
   "outputs": [],
   "source": [
    "df = pd.read_parquet(f'{_DATA_DIR}/daily_data.parquet')\n",
    "group_name = 'permno'\n",
    "\n",
    "df.dropna(subset=['daret'])\n",
    "df['excess_ret'] = df['daret'] - df['rf']\n",
    "df = df[df['excess_ret'] > -1]\n",
    "\n",
    "# Prepare rolling windows\n",
    "start_date = pd.to_datetime('2001-01-01')\n",
    "end_date = pd.to_datetime('2023-09-29')\n",
    "\n",
    "date_ranges = pd.date_range(start=start_date, end=end_date - pd.DateOffset(months=11), freq='MS').to_period('M')\n",
    "\n",
    "windows = [(str(date), str(date + 12)) for date in date_ranges]"
   ]
  },
  {
   "cell_type": "code",
   "execution_count": 135,
   "id": "826d6d2d-d4db-4e48-9358-36dba0243f4d",
   "metadata": {
    "tags": []
   },
   "outputs": [
    {
     "name": "stderr",
     "output_type": "stream",
     "text": [
      "100%|█| 262/262 [00:59<00:00,  4.43it/s\n"
     ]
    }
   ],
   "source": [
    "list_threshold = []\n",
    "for window_start, window_end in tqdm(windows):\n",
    "    df_year = df[(df['ldate'] > window_start) & (df['ldate'] < window_end)]\n",
    "    mkt = df_year[['mktrf', 'ldate']].groupby('ldate').first()\n",
    "    list_threshold.append((window_end, mkt.mean()[0]))"
   ]
  },
  {
   "cell_type": "code",
   "execution_count": 136,
   "id": "52efe89e-2ac7-4b3d-b705-d7eae17577e9",
   "metadata": {
    "tags": []
   },
   "outputs": [],
   "source": [
    "df_threshold = pd.DataFrame(list_threshold, columns=['Sample end', 'Threshold'])"
   ]
  },
  {
   "cell_type": "code",
   "execution_count": 142,
   "id": "c985b120-ae69-4ba8-8af8-9926b2fedd7b",
   "metadata": {
    "tags": []
   },
   "outputs": [
    {
     "data": {
      "image/png": "[encoded data removed]",
      "text/plain": [
       "<Figure size 1200x400 with 1 Axes>"
      ]
     },
     "metadata": {},
     "output_type": "display_data"
    }
   ],
   "source": [
    "df_threshold.set_index('Sample end').plot()\n",
    "plt.tight_layout()\n",
    "plt.savefig('dynamic threshold.png')"
   ]
  },
  {
   "cell_type": "code",
   "execution_count": 148,
   "id": "8d9bf531-3707-48ce-8bdf-8c6a7074c4ff",
   "metadata": {
    "tags": []
   },
   "outputs": [
    {
     "name": "stderr",
     "output_type": "stream",
     "text": [
      "100%|█| 262/262 [01:00<00:00,  4.34it/s\n"
     ]
    }
   ],
   "source": [
    "list_counts = []\n",
    "for window_start, window_end in tqdm(windows):\n",
    "    df_year = df[(df['ldate'] > window_start) & (df['ldate'] < window_end)]\n",
    "    mkt = df_year[['mktrf', 'ldate']].groupby('ldate').first()\n",
    "    counts = (mkt < mkt.mean()[0]).sum()\n",
    "    list_counts.append((window_end, counts[0]))"
   ]
  },
  {
   "cell_type": "code",
   "execution_count": 149,
   "id": "716845ce-73f7-40e5-9ecb-f72733b71d77",
   "metadata": {
    "tags": []
   },
   "outputs": [],
   "source": [
    "df_counts = pd.DataFrame(list_counts, columns=['Sample end', 'Counts'])"
   ]
  },
  {
   "cell_type": "code",
   "execution_count": 153,
   "id": "1f4fdb64-f572-4add-9ae8-d188b568bfaa",
   "metadata": {
    "tags": []
   },
   "outputs": [
    {
     "data": {
      "image/png": "[encoded data removed]",
      "text/plain": [
       "<Figure size 1200x400 with 1 Axes>"
      ]
     },
     "metadata": {},
     "output_type": "display_data"
    }
   ],
   "source": [
    "df_counts.set_index('Sample end').plot()\n",
    "plt.tight_layout()\n",
    "plt.savefig('counts over time.png')"
   ]
  },
  {
   "cell_type": "markdown",
   "id": "3ab5e5c4-f4d3-41e3-a28f-a2dbb1401b53",
   "metadata": {},
   "source": [
    "Verify beta"
   ]
  },
  {
   "cell_type": "code",
   "execution_count": 96,
   "id": "e9c545a0-7403-4419-821e-3d33cb181ee2",
   "metadata": {
    "tags": []
   },
   "outputs": [],
   "source": [
    "import statsmodels.api as sm"
   ]
  },
  {
   "cell_type": "code",
   "execution_count": 92,
   "id": "f9c26fbf-487a-4fdd-9b30-99de31c4a7e8",
   "metadata": {
    "tags": []
   },
   "outputs": [],
   "source": [
    "signals_rolling = pd.read_parquet(f'{_STRATEGY_DIR}/signals_Equity.parquet')"
   ]
  },
  {
   "cell_type": "code",
   "execution_count": 93,
   "id": "516a9509-bd1e-4643-abe3-84c382ffefcf",
   "metadata": {
    "tags": []
   },
   "outputs": [
    {
     "data": {
      "text/html": [
       "<div>\n",
       "<style scoped>\n",
       "    .dataframe tbody tr th:only-of-type {\n",
       "        vertical-align: middle;\n",
       "    }\n",
       "\n",
       "    .dataframe tbody tr th {\n",
       "        vertical-align: top;\n",
       "    }\n",
       "\n",
       "    .dataframe thead th {\n",
       "        text-align: right;\n",
       "    }\n",
       "</style>\n",
       "<table border=\"1\" class=\"dataframe\">\n",
       "  <thead>\n",
       "    <tr style=\"text-align: right;\">\n",
       "      <th></th>\n",
       "      <th>permno</th>\n",
       "      <th>signal</th>\n",
       "      <th>ldate</th>\n",
       "    </tr>\n",
       "  </thead>\n",
       "  <tbody>\n",
       "    <tr>\n",
       "      <th>0</th>\n",
       "      <td>10001</td>\n",
       "      <td>-0.115738</td>\n",
       "      <td>2001-12-01</td>\n",
       "    </tr>\n",
       "    <tr>\n",
       "      <th>1</th>\n",
       "      <td>10002</td>\n",
       "      <td>-0.076260</td>\n",
       "      <td>2001-12-01</td>\n",
       "    </tr>\n",
       "    <tr>\n",
       "      <th>2</th>\n",
       "      <td>10012</td>\n",
       "      <td>-0.390745</td>\n",
       "      <td>2001-12-01</td>\n",
       "    </tr>\n",
       "    <tr>\n",
       "      <th>3</th>\n",
       "      <td>10019</td>\n",
       "      <td>-0.189434</td>\n",
       "      <td>2001-12-01</td>\n",
       "    </tr>\n",
       "    <tr>\n",
       "      <th>4</th>\n",
       "      <td>10025</td>\n",
       "      <td>-0.568554</td>\n",
       "      <td>2001-12-01</td>\n",
       "    </tr>\n",
       "    <tr>\n",
       "      <th>...</th>\n",
       "      <td>...</td>\n",
       "      <td>...</td>\n",
       "      <td>...</td>\n",
       "    </tr>\n",
       "    <tr>\n",
       "      <th>4803</th>\n",
       "      <td>93423</td>\n",
       "      <td>-0.371984</td>\n",
       "      <td>2023-09-01</td>\n",
       "    </tr>\n",
       "    <tr>\n",
       "      <th>4804</th>\n",
       "      <td>93426</td>\n",
       "      <td>-0.267795</td>\n",
       "      <td>2023-09-01</td>\n",
       "    </tr>\n",
       "    <tr>\n",
       "      <th>4805</th>\n",
       "      <td>93427</td>\n",
       "      <td>0.092138</td>\n",
       "      <td>2023-09-01</td>\n",
       "    </tr>\n",
       "    <tr>\n",
       "      <th>4806</th>\n",
       "      <td>93434</td>\n",
       "      <td>-0.040885</td>\n",
       "      <td>2023-09-01</td>\n",
       "    </tr>\n",
       "    <tr>\n",
       "      <th>4807</th>\n",
       "      <td>93436</td>\n",
       "      <td>0.204847</td>\n",
       "      <td>2023-09-01</td>\n",
       "    </tr>\n",
       "  </tbody>\n",
       "</table>\n",
       "<p>1138912 rows × 3 columns</p>\n",
       "</div>"
      ],
      "text/plain": [
       "      permno    signal      ldate\n",
       "0      10001 -0.115738 2001-12-01\n",
       "1      10002 -0.076260 2001-12-01\n",
       "2      10012 -0.390745 2001-12-01\n",
       "3      10019 -0.189434 2001-12-01\n",
       "4      10025 -0.568554 2001-12-01\n",
       "...      ...       ...        ...\n",
       "4803   93423 -0.371984 2023-09-01\n",
       "4804   93426 -0.267795 2023-09-01\n",
       "4805   93427  0.092138 2023-09-01\n",
       "4806   93434 -0.040885 2023-09-01\n",
       "4807   93436  0.204847 2023-09-01\n",
       "\n",
       "[1138912 rows x 3 columns]"
      ]
     },
     "execution_count": 93,
     "metadata": {},
     "output_type": "execute_result"
    }
   ],
   "source": [
    "signals_rolling"
   ]
  },
  {
   "cell_type": "code",
   "execution_count": 94,
   "id": "98d25746-3ad4-419b-8149-9ce53759a10c",
   "metadata": {
    "tags": []
   },
   "outputs": [],
   "source": [
    "df = pd.read_parquet(f'{_DATA_DIR}/daily_data.parquet')\n",
    "group_name = 'permno'\n",
    "df.dropna(subset=['daret'])\n",
    "df['excess_ret'] = df['daret'] - df['rf']\n",
    "df = df[df['excess_ret'] > -1]"
   ]
  },
  {
   "cell_type": "code",
   "execution_count": 95,
   "id": "cf52ae38-7fb3-406c-b4fa-6087fecb5d20",
   "metadata": {
    "tags": []
   },
   "outputs": [],
   "source": [
    "df_year = df[(df['ldate'] > '2001-01') & (df['ldate'] < '2002-01')]"
   ]
  },
  {
   "cell_type": "code",
   "execution_count": 100,
   "id": "7da3b286-ddbc-42cf-812e-44e4ba621782",
   "metadata": {
    "tags": []
   },
   "outputs": [],
   "source": [
    "mkt = df_year[['mktrf', 'ldate']].groupby('ldate').first()\n",
    "threshold = mkt.mean()[0]\n",
    "down_idx = mkt[mkt['mktrf'] < threshold].index"
   ]
  },
  {
   "cell_type": "code",
   "execution_count": 106,
   "id": "096568ba-1e11-4a31-9de9-2643d6d20949",
   "metadata": {
    "tags": []
   },
   "outputs": [],
   "source": [
    "toy = df_year[df_year['permno']==10001]\n",
    "toy_down = toy[toy['ldate'].isin(down_idx)]"
   ]
  },
  {
   "cell_type": "code",
   "execution_count": 99,
   "id": "558f4dfa-bb15-4f26-8643-859fb1850086",
   "metadata": {
    "tags": []
   },
   "outputs": [
    {
     "data": {
      "text/plain": [
       "const    0.001178\n",
       "mktrf    0.083287\n",
       "dtype: float64"
      ]
     },
     "execution_count": 99,
     "metadata": {},
     "output_type": "execute_result"
    }
   ],
   "source": [
    "X = sm.add_constant(toy['mktrf'])\n",
    "model = sm.OLS(toy['excess_ret'], X)\n",
    "results = model.fit()\n",
    "results.params"
   ]
  },
  {
   "cell_type": "code",
   "execution_count": 108,
   "id": "a3473e38-ba35-40e6-be9d-1a7b508d336c",
   "metadata": {
    "tags": []
   },
   "outputs": [
    {
     "data": {
      "text/plain": [
       "const   -0.001487\n",
       "mktrf   -0.032451\n",
       "dtype: float64"
      ]
     },
     "execution_count": 108,
     "metadata": {},
     "output_type": "execute_result"
    }
   ],
   "source": [
    "X = sm.add_constant(toy_down['mktrf'])\n",
    "model = sm.OLS(toy_down['excess_ret'], X)\n",
    "results = model.fit()\n",
    "results.params"
   ]
  },
  {
   "cell_type": "code",
   "execution_count": 109,
   "id": "b01e731d-7c8a-4840-bded-8eaebef52805",
   "metadata": {
    "tags": []
   },
   "outputs": [
    {
     "data": {
      "text/plain": [
       "-0.11573800000000001"
      ]
     },
     "execution_count": 109,
     "metadata": {},
     "output_type": "execute_result"
    }
   ],
   "source": [
    "-0.032451 - 0.083287"
   ]
  },
  {
   "cell_type": "markdown",
   "id": "f3a2d599-cbab-4317-8a36-dd7293464f31",
   "metadata": {},
   "source": [
    "Betting against beta"
   ]
  },
  {
   "cell_type": "code",
   "execution_count": 215,
   "id": "88aaece0-4226-45d8-ae86-4fb35b81ee72",
   "metadata": {
    "tags": []
   },
   "outputs": [],
   "source": [
    "df_bab = pd.read_csv('../Data/bab_monthly.csv')"
   ]
  },
  {
   "cell_type": "code",
   "execution_count": 219,
   "id": "b344c39c-149b-4548-9399-096f387ed51e",
   "metadata": {
    "tags": []
   },
   "outputs": [],
   "source": [
    "df_bab = pd.read_csv('../Data/bab_monthly.csv')\n",
    "df_bab['date'] = pd.to_datetime(df_bab['date']).values.astype('datetime64[M]')\n",
    "df_bab = df_bab.sort_values(['date']).rename(columns = {'date': 'ym'})"
   ]
  },
  {
   "cell_type": "code",
   "execution_count": 220,
   "id": "43308586-4f1d-49e6-ae49-db6a3f1eaf98",
   "metadata": {
    "tags": []
   },
   "outputs": [
    {
     "data": {
      "text/html": [
       "<div>\n",
       "<style scoped>\n",
       "    .dataframe tbody tr th:only-of-type {\n",
       "        vertical-align: middle;\n",
       "    }\n",
       "\n",
       "    .dataframe tbody tr th {\n",
       "        vertical-align: top;\n",
       "    }\n",
       "\n",
       "    .dataframe thead th {\n",
       "        text-align: right;\n",
       "    }\n",
       "</style>\n",
       "<table border=\"1\" class=\"dataframe\">\n",
       "  <thead>\n",
       "    <tr style=\"text-align: right;\">\n",
       "      <th></th>\n",
       "      <th>ym</th>\n",
       "      <th>ret</th>\n",
       "    </tr>\n",
       "  </thead>\n",
       "  <tbody>\n",
       "    <tr>\n",
       "      <th>0</th>\n",
       "      <td>1928-08-01</td>\n",
       "      <td>-0.065800</td>\n",
       "    </tr>\n",
       "    <tr>\n",
       "      <th>1</th>\n",
       "      <td>1928-09-01</td>\n",
       "      <td>-0.035360</td>\n",
       "    </tr>\n",
       "    <tr>\n",
       "      <th>2</th>\n",
       "      <td>1928-10-01</td>\n",
       "      <td>-0.002491</td>\n",
       "    </tr>\n",
       "    <tr>\n",
       "      <th>3</th>\n",
       "      <td>1928-11-01</td>\n",
       "      <td>-0.070345</td>\n",
       "    </tr>\n",
       "    <tr>\n",
       "      <th>4</th>\n",
       "      <td>1928-12-01</td>\n",
       "      <td>-0.008096</td>\n",
       "    </tr>\n",
       "    <tr>\n",
       "      <th>...</th>\n",
       "      <td>...</td>\n",
       "      <td>...</td>\n",
       "    </tr>\n",
       "    <tr>\n",
       "      <th>1128</th>\n",
       "      <td>2022-08-01</td>\n",
       "      <td>-0.003600</td>\n",
       "    </tr>\n",
       "    <tr>\n",
       "      <th>1129</th>\n",
       "      <td>2022-09-01</td>\n",
       "      <td>0.041270</td>\n",
       "    </tr>\n",
       "    <tr>\n",
       "      <th>1130</th>\n",
       "      <td>2022-10-01</td>\n",
       "      <td>-0.000523</td>\n",
       "    </tr>\n",
       "    <tr>\n",
       "      <th>1131</th>\n",
       "      <td>2022-11-01</td>\n",
       "      <td>-0.013750</td>\n",
       "    </tr>\n",
       "    <tr>\n",
       "      <th>1132</th>\n",
       "      <td>2022-12-01</td>\n",
       "      <td>0.038919</td>\n",
       "    </tr>\n",
       "  </tbody>\n",
       "</table>\n",
       "<p>1133 rows × 2 columns</p>\n",
       "</div>"
      ],
      "text/plain": [
       "             ym       ret\n",
       "0    1928-08-01 -0.065800\n",
       "1    1928-09-01 -0.035360\n",
       "2    1928-10-01 -0.002491\n",
       "3    1928-11-01 -0.070345\n",
       "4    1928-12-01 -0.008096\n",
       "...         ...       ...\n",
       "1128 2022-08-01 -0.003600\n",
       "1129 2022-09-01  0.041270\n",
       "1130 2022-10-01 -0.000523\n",
       "1131 2022-11-01 -0.013750\n",
       "1132 2022-12-01  0.038919\n",
       "\n",
       "[1133 rows x 2 columns]"
      ]
     },
     "execution_count": 220,
     "metadata": {},
     "output_type": "execute_result"
    }
   ],
   "source": [
    "df_bab"
   ]
  },
  {
   "cell_type": "code",
   "execution_count": null,
   "id": "87e183ea-0dd5-4e8a-b7a8-a5657ef26b5c",
   "metadata": {},
   "outputs": [],
   "source": []
  }
 ],
 "metadata": {
  "kernelspec": {
   "display_name": "Python 3 (ipykernel)",
   "language": "python",
   "name": "python3"
  },
  "language_info": {
   "codemirror_mode": {
    "name": "ipython",
    "version": 3
   },
   "file_extension": ".py",
   "mimetype": "text/x-python",
   "name": "python",
   "nbconvert_exporter": "python",
   "pygments_lexer": "ipython3",
   "version": "3.10.13"
  }
 },
 "nbformat": 4,
 "nbformat_minor": 5
}
